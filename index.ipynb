{
 "cells": [
  {
   "cell_type": "markdown",
   "metadata": {},
   "source": [
    "# Coinbase Transaction\n",
    "\n",
    "All transactions on the bitcoin network are not created equally. A coinbase transaction is a unique type of bitcoin transaction that can only be created by a miner. This type of transaction has no inputs, and there is one created with each new block that is mined on the network. In other words, this is the transaction that rewards a miner with the block reward for their work. Any transaction fees collected by the miner are also sent in this transaction. [Credit](https://blog.cex.io/bitcoin-dictionary/coinbase-transaction-12088)"
   ]
  },
  {
   "cell_type": "markdown",
   "metadata": {},
   "source": [
    "### Test Driven Examples"
   ]
  },
  {
   "cell_type": "code",
   "execution_count": null,
   "metadata": {},
   "outputs": [],
   "source": [
    "from io import BytesIO\n",
    "from tx import Tx\n",
    "from helper import little_endian_to_int\n",
    "\n",
    "class Tx(Tx):\n",
    "    \n",
    "    def is_coinbase(self):\n",
    "        '''Returns whether this transaction is a coinbase transaction or not'''\n",
    "        # check that there is exactly 1 input\n",
    "        # grab the first input\n",
    "        # check that first input prev_tx is b'\\x00' * 32 bytes\n",
    "        # check that first input prev_index is 0xffffffff\n",
    "        pass\n",
    "\n",
    "    def coinbase_height(self):\n",
    "        '''Returns the height of the block this coinbase transaction is in\n",
    "        Returns None if this transaction is not a coinbase transaction\n",
    "        '''\n",
    "        # if this is NOT a coinbase transaction, return None\n",
    "        # grab the first input\n",
    "        # grab the first element of the script_sig (.script_sig.elements[0])\n",
    "        # convert the first element from little endian to int\n",
    "        pass"
   ]
  }
 ],
 "metadata": {
  "kernelspec": {
   "display_name": "Python 3",
   "language": "python",
   "name": "python3"
  },
  "language_info": {
   "codemirror_mode": {
    "name": "ipython",
    "version": 3
   },
   "file_extension": ".py",
   "mimetype": "text/x-python",
   "name": "python",
   "nbconvert_exporter": "python",
   "pygments_lexer": "ipython3",
   "version": "3.6.4"
  }
 },
 "nbformat": 4,
 "nbformat_minor": 2
}
